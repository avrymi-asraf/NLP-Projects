{
 "cells": [
  {
   "cell_type": "code",
   "execution_count": 1,
   "metadata": {},
   "outputs": [],
   "source": [
    "import torch \n",
    "import data_loader\n",
    "import exercise_blanks"
   ]
  },
  {
   "cell_type": "code",
   "execution_count": 3,
   "metadata": {},
   "outputs": [],
   "source": [
    "dl = exercise_blanks.DataManager()"
   ]
  },
  {
   "cell_type": "code",
   "execution_count": null,
   "metadata": {},
   "outputs": [],
   "source": [
    "dl.sentiment_dataset"
   ]
  },
  {
   "cell_type": "code",
   "execution_count": 16,
   "metadata": {},
   "outputs": [],
   "source": [
    "polarity_sentence = data_loader.get_negated_polarity_examples(dl.sentiment_dataset.sentences)\n",
    "rare_words = data_loader.get_rare_words_examples(dl.sentiment_dataset.sentences,dl.sentiment_dataset)"
   ]
  },
  {
   "cell_type": "code",
   "execution_count": 19,
   "metadata": {},
   "outputs": [
    {
     "data": {
      "text/plain": [
       "[7721,\n",
       " 7736,\n",
       " 7768,\n",
       " 7810,\n",
       " 7939,\n",
       " 7968,\n",
       " 7974,\n",
       " 7977,\n",
       " 8002,\n",
       " 8015,\n",
       " 8020,\n",
       " 8021,\n",
       " 8055,\n",
       " 8120,\n",
       " 8127,\n",
       " 8137,\n",
       " 8139,\n",
       " 8147,\n",
       " 8156,\n",
       " 8169,\n",
       " 8173,\n",
       " 8199,\n",
       " 8248,\n",
       " 8268,\n",
       " 8335,\n",
       " 8338,\n",
       " 8513,\n",
       " 8532,\n",
       " 8567,\n",
       " 8570,\n",
       " 8579,\n",
       " 8600,\n",
       " 8646,\n",
       " 8647,\n",
       " 8650,\n",
       " 8658,\n",
       " 8731,\n",
       " 8840,\n",
       " 8847,\n",
       " 8884,\n",
       " 8900,\n",
       " 8930,\n",
       " 9013,\n",
       " 9060,\n",
       " 9112,\n",
       " 9194,\n",
       " 9241,\n",
       " 9299,\n",
       " 9301,\n",
       " 9314]"
      ]
     },
     "execution_count": 19,
     "metadata": {},
     "output_type": "execute_result"
    }
   ],
   "source": [
    "rare_words"
   ]
  },
  {
   "cell_type": "code",
   "execution_count": null,
   "metadata": {},
   "outputs": [],
   "source": []
  }
 ],
 "metadata": {
  "kernelspec": {
   "display_name": "competitive-lab",
   "language": "python",
   "name": "python3"
  },
  "language_info": {
   "codemirror_mode": {
    "name": "ipython",
    "version": 3
   },
   "file_extension": ".py",
   "mimetype": "text/x-python",
   "name": "python",
   "nbconvert_exporter": "python",
   "pygments_lexer": "ipython3",
   "version": "3.10.11"
  }
 },
 "nbformat": 4,
 "nbformat_minor": 2
}
