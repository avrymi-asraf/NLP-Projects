{
 "cells": [
  {
   "cell_type": "code",
   "execution_count": 8,
   "metadata": {
    "ExecuteTime": {
     "end_time": "2024-02-03T19:44:51.037513600Z",
     "start_time": "2024-02-03T19:44:51.012434Z"
    }
   },
   "outputs": [],
   "source": [
    "import nltk as nl\n",
    "from new_main import *\n",
    "from nir_answer import *\n",
    "import re"
   ]
  },
  {
   "cell_type": "code",
   "execution_count": 9,
   "metadata": {},
   "outputs": [],
   "source": [
    "train_set, test_set = new_import_db(flat=True)"
   ]
  },
  {
   "cell_type": "code",
   "execution_count": 10,
   "metadata": {},
   "outputs": [],
   "source": [
    "all_tags = {tag for word, tag in train_set}.union({tag for word,tag in test_set})"
   ]
  },
  {
   "cell_type": "code",
   "execution_count": 20,
   "metadata": {},
   "outputs": [],
   "source": [
    "def get_pos_tag(tag):\n",
    "    \"\"\"\n",
    "    Extracts the POS tag from a complex tag using regular expressions, handling special characters.\n",
    "\n",
    "    Args:\n",
    "      tag: The complex tag string.\n",
    "\n",
    "    Returns:\n",
    "      The POS tag, or None if no POS tag is found.\n",
    "    \"\"\"\n",
    "    match = re.search(r\"(--)|([^+\\-*$:]+)\", tag)\n",
    "    if match:\n",
    "        return match.group()\n",
    "    else:\n",
    "        return \"\""
   ]
  },
  {
   "cell_type": "code",
   "execution_count": null,
   "metadata": {},
   "outputs": [],
   "source": [
    "for i in all_tags:\n",
    "    print(get_pos_tag(i))"
   ]
  },
  {
   "cell_type": "code",
   "execution_count": null,
   "metadata": {},
   "outputs": [],
   "source": []
  },
  {
   "cell_type": "code",
   "execution_count": 11,
   "metadata": {},
   "outputs": [],
   "source": [
    "known_words = {word for word,tag in train_set}\n",
    "unknown_words = {word for word, tag in test_set}"
   ]
  },
  {
   "cell_type": "code",
   "execution_count": 12,
   "metadata": {},
   "outputs": [],
   "source": [
    "with open('diif.txt','w') as f:\n",
    "    for w in unknown_words.difference(known_words):\n",
    "        f.write(f'{w} -> {filter_psudo_words(w)}\\n')\n",
    "\n",
    "    "
   ]
  },
  {
   "cell_type": "code",
   "execution_count": 13,
   "metadata": {},
   "outputs": [],
   "source": [
    "suffix = {\n",
    "    \"athon\",\n",
    "    \"esque\",\n",
    "    \"ible\",\n",
    "    \"able\",\n",
    "    \"cide\",\n",
    "    \"ette\",\n",
    "    \"fest\",\n",
    "    \"hood\",\n",
    "    \"ible\",\n",
    "    \"less\",\n",
    "    \"wash\",\n",
    "    \"ical\",\n",
    "    \"less\",\n",
    "    \"like\",\n",
    "    \"some\",\n",
    "    \"ance\",\n",
    "    \"ence\",\n",
    "    \"ant\",\n",
    "    \"ent\",\n",
    "    \"dom\",\n",
    "    \"ery\",\n",
    "    \"ess\",\n",
    "    \"ish\",\n",
    "    \"ism\",\n",
    "    \"ist\",\n",
    "    \"ous\",\n",
    "    \"ate\",\n",
    "    \"ful\",\n",
    "    \"ian\",\n",
    "    \"ive\",\n",
    "    \"ery\",\n",
    "    \"ion\",\n",
    "    \"er\",\n",
    "    \"fy\",\n",
    "    \"ly\",\n",
    "    \"ic\",\n",
    "    \"er\",\n",
    "    \"or\",\n",
    "}"
   ]
  },
  {
   "cell_type": "code",
   "execution_count": 14,
   "metadata": {},
   "outputs": [
    {
     "data": {
      "text/plain": [
       "'erfylyiceror'"
      ]
     },
     "execution_count": 14,
     "metadata": {},
     "output_type": "execute_result"
    }
   ],
   "source": [
    "two_letters_suffix"
   ]
  },
  {
   "cell_type": "code",
   "execution_count": 33,
   "metadata": {},
   "outputs": [
    {
     "name": "stdout",
     "output_type": "stream",
     "text": [
      "['STARTTAG', 'AT', 'NN', 'RB', 'VBN', 'JJ', 'NN', 'IN', 'NN', '.']\n",
      "(['STARTTAG', '', '', '', '', '', '', '', '', ''], -inf)\n"
     ]
    }
   ],
   "source": []
  },
  {
   "cell_type": "code",
   "execution_count": null,
   "metadata": {},
   "outputs": [],
   "source": []
  }
 ],
 "metadata": {
  "kernelspec": {
   "display_name": "competitive-lab",
   "language": "python",
   "name": "python3"
  },
  "language_info": {
   "codemirror_mode": {
    "name": "ipython",
    "version": 3
   },
   "file_extension": ".py",
   "mimetype": "text/x-python",
   "name": "python",
   "nbconvert_exporter": "python",
   "pygments_lexer": "ipython3",
   "version": "3.10.11"
  }
 },
 "nbformat": 4,
 "nbformat_minor": 2
}
