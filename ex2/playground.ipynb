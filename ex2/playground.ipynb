{
 "cells": [
  {
   "cell_type": "code",
   "execution_count": 31,
   "metadata": {
    "ExecuteTime": {
     "end_time": "2024-02-03T19:44:51.037513600Z",
     "start_time": "2024-02-03T19:44:51.012434Z"
    }
   },
   "outputs": [],
   "source": [
    "import nltk as nl\n",
    "from main import *"
   ]
  },
  {
   "cell_type": "code",
   "execution_count": 5,
   "metadata": {},
   "outputs": [
    {
     "name": "stderr",
     "output_type": "stream",
     "text": [
      "[nltk_data] Downloading package brown to\n",
      "[nltk_data]     C:\\Users\\avrey\\AppData\\Roaming\\nltk_data...\n",
      "[nltk_data]   Package brown is already up-to-date!\n"
     ]
    },
    {
     "data": {
      "text/plain": [
       "True"
      ]
     },
     "execution_count": 5,
     "metadata": {},
     "output_type": "execute_result"
    }
   ],
   "source": [
    "nl.download('brown')"
   ]
  },
  {
   "cell_type": "code",
   "execution_count": 3,
   "metadata": {},
   "outputs": [
    {
     "name": "stdout",
     "output_type": "stream",
     "text": [
      "['The', 'Fulton', 'County', 'Grand', 'Jury', 'said', 'Friday', 'an', 'investigation', 'of']\n"
     ]
    }
   ],
   "source": [
    "brown = nl.corpus.brown\n",
    "print(brown.words()[0:10])\n"
   ]
  },
  {
   "cell_type": "code",
   "execution_count": 4,
   "metadata": {},
   "outputs": [],
   "source": [
    "brown_tagged = brown.tagged_words()"
   ]
  },
  {
   "cell_type": "code",
   "execution_count": 33,
   "metadata": {},
   "outputs": [],
   "source": [
    "unique_tags_unfilter = set([tag for (word, tag) in brown_tagged])\n",
    "unique_tags_filterd = set([tag_filter(tag) for (word, tag) in brown_tagged])"
   ]
  },
  {
   "cell_type": "code",
   "execution_count": null,
   "metadata": {},
   "outputs": [],
   "source": [
    "print(unique_tags_unfilter)\n",
    "print(unique_tags_filterd)"
   ]
  },
  {
   "cell_type": "code",
   "execution_count": 35,
   "metadata": {},
   "outputs": [],
   "source": [
    "training_set_flat, test_set_flat, test_set_senteced = import_db()\n"
   ]
  },
  {
   "cell_type": "code",
   "execution_count": 36,
   "metadata": {},
   "outputs": [
    {
     "data": {
      "text/plain": [
       "[('STARTSTART', 'STARTTAG'),\n",
       " ('Last', 'AP'),\n",
       " ('week', 'NN'),\n",
       " ('Federal', 'JJ'),\n",
       " ('District', 'NN'),\n",
       " ('Judge', 'NN'),\n",
       " ('William', 'NP'),\n",
       " ('A.', 'NP'),\n",
       " ('Bootle', 'NP'),\n",
       " ('ordered', 'VBD'),\n",
       " ('the', 'AT'),\n",
       " ('university', 'NN'),\n",
       " ('to', 'TO'),\n",
       " ('admit', 'VB'),\n",
       " ('immediately', 'RB'),\n",
       " ('a', 'AT'),\n",
       " ('``', '``'),\n",
       " ('qualified', 'VBN'),\n",
       " (\"''\", \"''\"),\n",
       " ('Negro', 'NP'),\n",
       " ('boy', 'NN'),\n",
       " ('and', 'CC'),\n",
       " ('girl', 'NN'),\n",
       " ('.', '.')]"
      ]
     },
     "execution_count": 36,
     "metadata": {},
     "output_type": "execute_result"
    }
   ],
   "source": [
    "test_set_senteced[0]"
   ]
  },
  {
   "cell_type": "code",
   "execution_count": null,
   "metadata": {},
   "outputs": [],
   "source": [
    "print(len(unique_tags))\n",
    "print(unique_tags)"
   ]
  },
  {
   "cell_type": "code",
   "execution_count": null,
   "metadata": {},
   "outputs": [],
   "source": [
    "dividing = lambda x: min(x.find(\"-\"),x.find(\"+\"))"
   ]
  },
  {
   "cell_type": "code",
   "execution_count": 30,
   "metadata": {},
   "outputs": [
    {
     "ename": "SyntaxError",
     "evalue": "invalid syntax (2559409714.py, line 1)",
     "output_type": "error",
     "traceback": [
      "\u001b[1;36m  Cell \u001b[1;32mIn[30], line 1\u001b[1;36m\u001b[0m\n\u001b[1;33m    unique_tags = [tag[:tag.index(\"-\")+1] for tag in unique_tags if \"-\" in tag else tag ]\u001b[0m\n\u001b[1;37m                                                                               ^\u001b[0m\n\u001b[1;31mSyntaxError\u001b[0m\u001b[1;31m:\u001b[0m invalid syntax\n"
     ]
    }
   ],
   "source": [
    "unique_tags = [tag[:tag.index(\"-\")+1] for tag in unique_tags]\n",
    "unique_tags = [tag[:tag.index(\"+\")+1] for tag in unique_tags]\n",
    "list(set(unique_tags))"
   ]
  },
  {
   "cell_type": "code",
   "execution_count": 9,
   "metadata": {
    "ExecuteTime": {
     "end_time": "2024-02-03T20:01:16.786765100Z",
     "start_time": "2024-02-03T20:01:16.775383500Z"
    },
    "collapsed": false
   },
   "outputs": [
    {
     "name": "stdout",
     "output_type": "stream",
     "text": [
      "<class 'list'>\n"
     ]
    }
   ],
   "source": [
    "import nltk as nl\n",
    "#nl.download('averaged_perceptron_tagger')\n",
    "#nl.download('punkt')\n",
    "text = nl.word_tokenize(\"STARTSTART\")\n",
    "text1 = nl.pos_tag(text)\n",
    "print(type(text1))"
   ]
  },
  {
   "cell_type": "code",
   "execution_count": 1,
   "metadata": {},
   "outputs": [],
   "source": [
    "d = {\"a\": 1, \"b\": 2, \"c\": 3, \"d\": 4}\n",
    "l = ['a','b','c','d']"
   ]
  },
  {
   "cell_type": "code",
   "execution_count": 3,
   "metadata": {},
   "outputs": [
    {
     "data": {
      "text/plain": [
       "'a'"
      ]
     },
     "execution_count": 3,
     "metadata": {},
     "output_type": "execute_result"
    }
   ],
   "source": [
    "min(l, key=lambda x: d[x])"
   ]
  }
 ],
 "metadata": {
  "kernelspec": {
   "display_name": "competitive-lab",
   "language": "python",
   "name": "python3"
  },
  "language_info": {
   "codemirror_mode": {
    "name": "ipython",
    "version": 3
   },
   "file_extension": ".py",
   "mimetype": "text/x-python",
   "name": "python",
   "nbconvert_exporter": "python",
   "pygments_lexer": "ipython3",
   "version": "3.10.11"
  }
 },
 "nbformat": 4,
 "nbformat_minor": 2
}
